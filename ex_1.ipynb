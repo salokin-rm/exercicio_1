{
 "cells": [
  {
   "cell_type": "code",
   "execution_count": 1,
   "id": "5ecb40b9",
   "metadata": {},
   "outputs": [
    {
     "name": "stdout",
     "output_type": "stream",
     "text": [
      "Hello, World!\n"
     ]
    }
   ],
   "source": [
    "\"\"\"\n",
    "Programa: Hello, World!\n",
    "Descrição: Este programa imprime na tela a frase \"Hello, World!\".\n",
    "Autor: Nikolas Martins\n",
    "Data: 21/06/2023\n",
    "Versão: 0.0.1\n",
    "\n",
    "\"\"\"\n",
    "\n",
    "# Atribuição de variáveis\n",
    "\n",
    "# Entrada de dados\n",
    "\n",
    "# Processamento de dados\n",
    "\n",
    "# Saída de dados\n",
    "\n",
    "print(\"Hello, World!\")"
   ]
  },
  {
   "cell_type": "code",
   "execution_count": null,
   "id": "1af79a82",
   "metadata": {},
   "outputs": [],
   "source": []
  }
 ],
 "metadata": {
  "kernelspec": {
   "display_name": "Python 3 (ipykernel)",
   "language": "python",
   "name": "python3"
  },
  "language_info": {
   "codemirror_mode": {
    "name": "ipython",
    "version": 3
   },
   "file_extension": ".py",
   "mimetype": "text/x-python",
   "name": "python",
   "nbconvert_exporter": "python",
   "pygments_lexer": "ipython3",
   "version": "3.10.9"
  }
 },
 "nbformat": 4,
 "nbformat_minor": 5
}
